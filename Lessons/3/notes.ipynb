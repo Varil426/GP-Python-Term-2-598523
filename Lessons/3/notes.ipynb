{
 "cells": [
  {
   "cell_type": "markdown",
   "id": "823b549a",
   "metadata": {},
   "source": [
    "# Konstruktor\n",
    "\n",
    "## `__init__`"
   ]
  },
  {
   "cell_type": "code",
   "execution_count": null,
   "id": "b2df1e46",
   "metadata": {},
   "outputs": [],
   "source": [
    "class Uczen:\n",
    "    imie = \"\"\n",
    "    nazwisko = \"\"\n",
    "    \n",
    "    def __init__(self, imie, nazwisko):\n",
    "        self.imie = imie\n",
    "        self.nazwisko = nazwisko"
   ]
  },
  {
   "cell_type": "code",
   "execution_count": null,
   "id": "a652f4d5",
   "metadata": {},
   "outputs": [],
   "source": [
    "uczen_1 = Uczen(\"Jan\", \"Kowalski\")\n",
    "uczen_2 = Uczen(\"Anna\", \"Nowak\")"
   ]
  },
  {
   "cell_type": "markdown",
   "id": "7b194232",
   "metadata": {},
   "source": [
    "## Zmienne powiązane z klasą, a zmienne powiązane z obiektem"
   ]
  },
  {
   "cell_type": "code",
   "execution_count": null,
   "id": "2ce64d87",
   "metadata": {},
   "outputs": [],
   "source": [
    "print(Uczen.imie)\n",
    "print(uczen_1.imie)"
   ]
  }
 ],
 "metadata": {
  "kernelspec": {
   "display_name": "Python 3",
   "language": "python",
   "name": "python3"
  },
  "language_info": {
   "codemirror_mode": {
    "name": "ipython",
    "version": 3
   },
   "file_extension": ".py",
   "mimetype": "text/x-python",
   "name": "python",
   "nbconvert_exporter": "python",
   "pygments_lexer": "ipython3",
   "version": "3.12.1"
  }
 },
 "nbformat": 4,
 "nbformat_minor": 5
}
