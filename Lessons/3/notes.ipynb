{
 "cells": [
  {
   "cell_type": "markdown",
   "id": "823b549a",
   "metadata": {},
   "source": [
    "# Konstruktor\n",
    "\n",
    "## `__init__`"
   ]
  },
  {
   "cell_type": "code",
   "execution_count": 13,
   "id": "b2df1e46",
   "metadata": {},
   "outputs": [],
   "source": [
    "class Uczen:\n",
    "    imie = \"\"\n",
    "    nazwisko = \"\"\n",
    "    \n",
    "    def __init__(self, imie, nazwisko):\n",
    "        self.imie = imie\n",
    "        self.nazwisko = nazwisko"
   ]
  },
  {
   "cell_type": "code",
   "execution_count": 14,
   "id": "a652f4d5",
   "metadata": {},
   "outputs": [],
   "source": [
    "uczen_1 = Uczen(\"Jan\", \"Kowalski\")\n",
    "uczen_2 = Uczen(\"Anna\", \"Nowak\")"
   ]
  },
  {
   "cell_type": "markdown",
   "id": "7b194232",
   "metadata": {},
   "source": [
    "## Zmienne powiązane z klasą, a zmienne powiązane z obiektem"
   ]
  },
  {
   "cell_type": "code",
   "execution_count": 15,
   "id": "2ce64d87",
   "metadata": {},
   "outputs": [
    {
     "name": "stdout",
     "output_type": "stream",
     "text": [
      "\n",
      "Jan\n"
     ]
    }
   ],
   "source": [
    "print(Uczen.imie)\n",
    "print(uczen_1.imie)"
   ]
  }
 ],
 "metadata": {
  "kernelspec": {
   "display_name": "Python 3",
   "language": "python",
   "name": "python3"
  },
  "language_info": {
   "codemirror_mode": {
    "name": "ipython",
    "version": 3
   },
   "file_extension": ".py",
   "mimetype": "text/x-python",
   "name": "python",
   "nbconvert_exporter": "python",
   "pygments_lexer": "ipython3",
   "version": "3.13.3"
  }
 },
 "nbformat": 4,
 "nbformat_minor": 5
}
