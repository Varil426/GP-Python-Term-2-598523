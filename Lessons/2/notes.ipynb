{
 "cells": [
  {
   "cell_type": "markdown",
   "id": "9fa24b6a",
   "metadata": {},
   "source": [
    "# Wstęp do programowania obiektowego\n",
    "\n",
    "## Klasy"
   ]
  },
  {
   "cell_type": "code",
   "execution_count": 1,
   "id": "e7f8dbe3",
   "metadata": {},
   "outputs": [],
   "source": [
    "class Uczen:\n",
    "    imie = \"\"\n",
    "    nazwisko = \"\"\n",
    "    wiek = 0\n",
    "    oceny = []\n",
    "\n",
    "    def info(self):\n",
    "        return f\"{self.imie} {self.nazwisko}, {self.wiek} lat, oceny: {self.oceny}\""
   ]
  },
  {
   "cell_type": "code",
   "execution_count": 2,
   "id": "8d998ffa",
   "metadata": {},
   "outputs": [],
   "source": [
    "import random\n",
    "\n",
    "def generujUcznia():\n",
    "    imiona = [\"Jan\", \"Anna\", \"Piotr\", \"Kasia\", \"Michał\"]\n",
    "    nazwiska = [\"Kowalski\", \"Nowak\", \"Wiśniewski\", \"Wójcik\", \"Kowalczyk\"]\n",
    "\n",
    "    wiek = random.randint(6, 19)\n",
    "    oceny = [random.randint(2, 5) for _ in range(5)]\n",
    "\n",
    "    uczen = Uczen()\n",
    "    uczen.imie = random.choice(imiona)\n",
    "    uczen.nazwisko = random.choice(nazwiska)\n",
    "    uczen.wiek = wiek\n",
    "    uczen.oceny = oceny\n",
    "\n",
    "    return uczen"
   ]
  },
  {
   "cell_type": "code",
   "execution_count": 4,
   "id": "53e9ee7d",
   "metadata": {},
   "outputs": [
    {
     "name": "stdout",
     "output_type": "stream",
     "text": [
      "Ilość uczniów w klasie 1A: 10\n",
      "Uczniowie klasy 1A: [<__main__.Uczen object at 0x000001958D877200>, <__main__.Uczen object at 0x000001958D8774D0>, <__main__.Uczen object at 0x000001958DA53A10>, <__main__.Uczen object at 0x000001958DA53150>, <__main__.Uczen object at 0x000001958DAF8D50>, <__main__.Uczen object at 0x000001958D8D4D10>, <__main__.Uczen object at 0x000001958D8D4A10>, <__main__.Uczen object at 0x000001958D93A6D0>, <__main__.Uczen object at 0x000001958D93B3E0>, <__main__.Uczen object at 0x000001958DAD4910>]\n"
     ]
    }
   ],
   "source": [
    "uczniowie_klasa_1A = []\n",
    "\n",
    "for _ in range(10):\n",
    "    uczen = generujUcznia()\n",
    "    uczniowie_klasa_1A.append(uczen)\n",
    "\n",
    "print(f\"Ilość uczniów w klasie 1A: {len(uczniowie_klasa_1A)}\")\n",
    "print(f\"Uczniowie klasy 1A: {uczniowie_klasa_1A}\")"
   ]
  },
  {
   "cell_type": "code",
   "execution_count": 5,
   "id": "62ce5e47",
   "metadata": {},
   "outputs": [
    {
     "name": "stdout",
     "output_type": "stream",
     "text": [
      "Informacje o uczniach klasy 1A:\n",
      "Kasia Wójcik, 18 lat, oceny: [5, 5, 4, 3, 2]\n",
      "Jan Kowalski, 6 lat, oceny: [2, 3, 4, 3, 4]\n",
      "Anna Kowalski, 17 lat, oceny: [5, 5, 3, 5, 2]\n",
      "Jan Nowak, 7 lat, oceny: [4, 2, 2, 3, 4]\n",
      "Michał Wiśniewski, 10 lat, oceny: [2, 3, 5, 3, 5]\n",
      "Michał Wiśniewski, 9 lat, oceny: [4, 3, 4, 5, 2]\n",
      "Kasia Wójcik, 7 lat, oceny: [5, 4, 3, 2, 5]\n",
      "Anna Wiśniewski, 14 lat, oceny: [2, 5, 3, 4, 3]\n",
      "Jan Kowalski, 12 lat, oceny: [4, 2, 5, 3, 4]\n",
      "Anna Kowalczyk, 14 lat, oceny: [5, 2, 4, 2, 3]\n"
     ]
    }
   ],
   "source": [
    "print(\"Informacje o uczniach klasy 1A:\")\n",
    "for uczen in uczniowie_klasa_1A:\n",
    "    print(uczen.info())"
   ]
  }
 ],
 "metadata": {
  "kernelspec": {
   "display_name": "Python 3",
   "language": "python",
   "name": "python3"
  },
  "language_info": {
   "codemirror_mode": {
    "name": "ipython",
    "version": 3
   },
   "file_extension": ".py",
   "mimetype": "text/x-python",
   "name": "python",
   "nbconvert_exporter": "python",
   "pygments_lexer": "ipython3",
   "version": "3.13.3"
  }
 },
 "nbformat": 4,
 "nbformat_minor": 5
}
