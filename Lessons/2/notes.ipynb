{
 "cells": [
  {
   "cell_type": "markdown",
   "id": "9fa24b6a",
   "metadata": {},
   "source": [
    "# Wstęp do programowania obiektowego\n",
    "\n",
    "## Klasy"
   ]
  },
  {
   "cell_type": "code",
   "execution_count": null,
   "id": "e7f8dbe3",
   "metadata": {},
   "outputs": [],
   "source": [
    "class Uczen():\n",
    "    imie = \"\"\n",
    "    nazwisko = \"\"\n",
    "    wiek = 0\n",
    "    oceny = []\n",
    "\n",
    "    def info(self):\n",
    "        return f\"{self.imie} {self.nazwisko}, {self.wiek} lat, oceny: {self.oceny}\""
   ]
  },
  {
   "cell_type": "code",
   "execution_count": null,
   "id": "8d998ffa",
   "metadata": {},
   "outputs": [],
   "source": [
    "import random\n",
    "\n",
    "def generujUcznia():\n",
    "    imiona = [\"Jan\", \"Anna\", \"Piotr\", \"Kasia\", \"Michał\"]\n",
    "    nazwiska = [\"Kowalski\", \"Nowak\", \"Wiśniewski\", \"Wójcik\", \"Kowalczyk\"]\n",
    "\n",
    "    wiek = random.randint(6, 19)\n",
    "    oceny = [random.randint(2, 5) for _ in range(5)]\n",
    "\n",
    "    uczen = Uczen()\n",
    "    uczen.imie = random.choice(imiona)\n",
    "    uczen.nazwisko = random.choice(nazwiska)\n",
    "    uczen.wiek = wiek\n",
    "    uczen.oceny = oceny\n",
    "\n",
    "    return uczen"
   ]
  },
  {
   "cell_type": "code",
   "execution_count": null,
   "id": "53e9ee7d",
   "metadata": {},
   "outputs": [],
   "source": [
    "uczniowie_klasa_1A = []\n",
    "\n",
    "for _ in range(10):\n",
    "    uczen = generujUcznia()\n",
    "    uczniowie_klasa_1A.append(uczen)\n",
    "\n",
    "print(f\"Ilość uczniów w klasie 1A: {len(uczniowie_klasa_1A)}\")\n",
    "print(f\"Uczniowie klasy 1A: {uczniowie_klasa_1A}\")"
   ]
  },
  {
   "cell_type": "code",
   "execution_count": null,
   "id": "62ce5e47",
   "metadata": {},
   "outputs": [],
   "source": [
    "print(\"Informacje o uczniach klasy 1A:\")\n",
    "for uczen in uczniowie_klasa_1A:\n",
    "    print(uczen.info())"
   ]
  }
 ],
 "metadata": {
  "kernelspec": {
   "display_name": "Python 3",
   "language": "python",
   "name": "python3"
  },
  "language_info": {
   "codemirror_mode": {
    "name": "ipython",
    "version": 3
   },
   "file_extension": ".py",
   "mimetype": "text/x-python",
   "name": "python",
   "nbconvert_exporter": "python",
   "pygments_lexer": "ipython3",
   "version": "3.12.1"
  }
 },
 "nbformat": 4,
 "nbformat_minor": 5
}
